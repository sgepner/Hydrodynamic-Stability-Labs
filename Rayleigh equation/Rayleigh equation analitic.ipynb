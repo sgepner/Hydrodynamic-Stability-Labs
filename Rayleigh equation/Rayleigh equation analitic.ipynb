{
 "cells": [
  {
   "cell_type": "code",
   "execution_count": 1,
   "id": "4d4527aa",
   "metadata": {},
   "outputs": [],
   "source": [
    "from sympy import *\n",
    "import numpy as np\n",
    "import math\n",
    "\n",
    "import matplotlib.pyplot as plt"
   ]
  },
  {
   "cell_type": "markdown",
   "id": "3dbcd5ad",
   "metadata": {},
   "source": [
    "# The Rayleigh equation and the Shear Layer instability\n",
    "\n",
    "Some of the reasoning is based on Criminale, Jackson, Joslin THEORY AND COMPUTATION OF HYDRODYNAMIC STABILITY, 2003\n",
    "\n",
    "We will attempt to solve the stability problem of an inviscid shear layer using the Rayleigh equations\n",
    "\n",
    "The Orr-Sommerfeld equation (4'th order for v) results from the Navier-Stokes written for the perturbation $v$ around solution $U$ and an additional assumption that perturbation has a form of a normal mode (is periodic and written as a monochromatic traveling wave). This problem is stated as follows:\n",
    "$$\n",
    "(U-c)(\\frac{\\partial^2 v}{\\partial y^2}-\\alpha^2 v) - \\frac{\\partial^2 U}{\\partial y} v =\n",
    "(i \\alpha Re)^{-1}(\\frac{\\partial^4 v}{\\partial y^4}-2\\alpha^2 \\frac{\\partial^2 v}{\\partial y^2} + \\alpha^4 v)\n",
    "$$\n",
    "has a problem in the fact that it is the forth order and not so much fun to solve. But in the limit of $Re\\to\\infty$ it gets to be much nicer, and is called the Rayleigh equation:\n",
    "$$\n",
    "(U-c)(\\frac{\\partial^2 v}{\\partial y^2}-\\alpha^2 v) - \\frac{\\partial^2 U}{\\partial y} v = 0\n",
    "$$\n",
    "In the above $c$ is a complex wave velocity while $\\omega=\\alpha c$ the complex wave length, and $\\alpha$ plays a role of a real wavenumber defining the spatial extension of the perturbation. We note that the Rayleigh equation is in fact an PDE eigen problem, with $c$ the eigen value and $v$ the eigen function. While the notion of eigen function might be strange to you (is it?) you should be familiar with eigen values and vectors of a square matrix. So an eigen problem for a PDE is just a generalization."
   ]
  },
  {
   "cell_type": "markdown",
   "id": "07854588",
   "metadata": {},
   "source": [
    "Let us start with piecewise linear profile (this way we will be able to obtain necessary constants). That is let the velocity $U$ be as follows:\n",
    "\n",
    "$$\n",
    "U(y) = \\cases{-1 for y < -1 \\\\\n",
    "              y for y \\in (-1,1) \\\\\n",
    "              1 for y > 1}\n",
    "$$\n",
    "It is good to start with a plot:"
   ]
  },
  {
   "cell_type": "code",
   "execution_count": 2,
   "id": "dd97c35e",
   "metadata": {},
   "outputs": [],
   "source": [
    "y = Symbol('y')\n",
    "U = Piecewise(\n",
    "    (-1, y < -1),\n",
    "    (1, y > 1),\n",
    "    ( y, True )\n",
    ")\n",
    "dU = U.diff(y)"
   ]
  },
  {
   "cell_type": "code",
   "execution_count": 3,
   "id": "2f8a1f16",
   "metadata": {},
   "outputs": [
    {
     "data": {
      "text/latex": [
       "$\\displaystyle \\begin{cases} 0 & \\text{for}\\: y > 1 \\vee y < -1 \\\\1 & \\text{otherwise} \\end{cases}$"
      ],
      "text/plain": [
       "Piecewise((0, (y > 1) | (y < -1)), (1, True))"
      ]
     },
     "execution_count": 3,
     "metadata": {},
     "output_type": "execute_result"
    }
   ],
   "source": [
    "dU"
   ]
  },
  {
   "cell_type": "code",
   "execution_count": 4,
   "id": "f0f400ab",
   "metadata": {},
   "outputs": [],
   "source": [
    "fdU= lambdify(y, dU, 'numpy')\n",
    "fU = lambdify(y, U, 'numpy')"
   ]
  },
  {
   "cell_type": "code",
   "execution_count": 5,
   "id": "1b7888d0",
   "metadata": {},
   "outputs": [
    {
     "data": {
      "image/png": "[encoded data removed]",
      "text/plain": [
       "<Figure size 640x480 with 1 Axes>"
      ]
     },
     "metadata": {},
     "output_type": "display_data"
    }
   ],
   "source": [
    "Y = np.linspace(-2,2,1000)\n",
    "plt.plot(Y,fU(Y))\n",
    "plt.plot(Y,fdU(Y))\n",
    "plt.grid()"
   ]
  },
  {
   "cell_type": "markdown",
   "id": "a75a0f09",
   "metadata": {},
   "source": [
    "The good about the velocity profile is that $\\frac{\\partial^2U}{\\partial y^2}=0$, so Raileigh's equation simplifies to $\\frac{\\partial^2 v}{\\partial y^2} - \\alpha^2 v = 0$ and since the solution must $v\\to0$ as $y\\to\\pm\\infty$ it might be represented as:\n",
    "$$\n",
    "v(y) = \\cases{A exp(-\\alpha(y-1)) for y > 1 \\\\\n",
    "              B exp(-\\alpha(y-1)) + C exp(\\alpha(y+1)) for y \\in (-1,1) \\\\\n",
    "              D exp(\\alpha(y+1)) for y < -1}\n",
    "$$"
   ]
  },
  {
   "cell_type": "code",
   "execution_count": 63,
   "id": "3d992b3e",
   "metadata": {},
   "outputs": [],
   "source": [
    "a = Symbol('a')\n",
    "A = Symbol('A')\n",
    "B = Symbol('B')\n",
    "C = Symbol('C')\n",
    "D = Symbol('D')\n",
    "o = Symbol('o')\n",
    "\n",
    "v = Piecewise(\n",
    "    (A * exp(-a*(y-1)), y > 1),\n",
    "    (D * exp(a*(y+1)), y < -1),\n",
    "    (B * exp(-a*(y-1)) + C * exp(a*(y+1)), True )\n",
    ")"
   ]
  },
  {
   "cell_type": "code",
   "execution_count": 7,
   "id": "744f683d",
   "metadata": {},
   "outputs": [
    {
     "data": {
      "text/latex": [
       "$\\displaystyle \\begin{cases} A e^{- a \\left(y - 1\\right)} & \\text{for}\\: y > 1 \\\\D e^{a \\left(y + 1\\right)} & \\text{for}\\: y < -1 \\\\B e^{- a \\left(y - 1\\right)} + C e^{a \\left(y + 1\\right)} & \\text{otherwise} \\end{cases}$"
      ],
      "text/plain": [
       "Piecewise((A*exp(-a*(y - 1)), y > 1), (D*exp(a*(y + 1)), y < -1), (B*exp(-a*(y - 1)) + C*exp(a*(y + 1)), True))"
      ]
     },
     "execution_count": 7,
     "metadata": {},
     "output_type": "execute_result"
    }
   ],
   "source": [
    "v"
   ]
  },
  {
   "cell_type": "code",
   "execution_count": 8,
   "id": "bec39b6a",
   "metadata": {},
   "outputs": [],
   "source": [
    "dv = v.diff(y)"
   ]
  },
  {
   "cell_type": "code",
   "execution_count": 9,
   "id": "cf7b775e",
   "metadata": {},
   "outputs": [
    {
     "data": {
      "text/latex": [
       "$\\displaystyle \\begin{cases} - A a e^{- a \\left(y - 1\\right)} & \\text{for}\\: y > 1 \\\\D a e^{a \\left(y + 1\\right)} & \\text{for}\\: y < -1 \\\\- B a e^{- a \\left(y - 1\\right)} + C a e^{a \\left(y + 1\\right)} & \\text{otherwise} \\end{cases}$"
      ],
      "text/plain": [
       "Piecewise((-A*a*exp(-a*(y - 1)), y > 1), (D*a*exp(a*(y + 1)), y < -1), (-B*a*exp(-a*(y - 1)) + C*a*exp(a*(y + 1)), True))"
      ]
     },
     "execution_count": 9,
     "metadata": {},
     "output_type": "execute_result"
    }
   ],
   "source": [
    "dv"
   ]
  },
  {
   "cell_type": "markdown",
   "id": "f3bb403e",
   "metadata": {},
   "source": [
    "and our problem is just in finding constants $A,B,C$ and $D$, so we need to form 4 equations in order to do that. At $y\\pm1$ we will impose continuity conditions ($[]$ - jump condition at both sides), that is:\n",
    "1) $$ [(\\alpha U - \\omega)\\frac{\\partial v}{\\partial y}-\\alpha \\frac{\\partial U}{\\partial y}v]_{y_i} = 0$$\n",
    "2) $$ [\\frac{v}{(\\alpha U - \\omega)}]_{y_i} = 0$$\n",
    "\n",
    "This will yield 4 equations to our problem. In fact this will yield an algebraic problem, that in order to give anything but a trivial ($v=0$) solution needs to zero the matrix determinant.\n",
    "\n",
    "### Starting with $y=-1$:"
   ]
  },
  {
   "cell_type": "code",
   "execution_count": 12,
   "id": "6a88191d",
   "metadata": {},
   "outputs": [
    {
     "name": "stdout",
     "output_type": "stream",
     "text": [
      "-1\n",
      "-1\n",
      "0\n",
      "1\n"
     ]
    }
   ],
   "source": [
    "U1 = limit(U, y, -1, '-')\n",
    "U2 = limit(U, y, -1, '+')\n",
    "# dU1 = limit(dU, y, -1, '-')\n",
    "# dU2 = limit(dU, y, -1, '+')\n",
    "dU1 = 0\n",
    "dU2 = 1\n",
    "print(U1)\n",
    "print(U2)\n",
    "print(dU1)\n",
    "print(dU2)"
   ]
  },
  {
   "cell_type": "code",
   "execution_count": 13,
   "id": "4b2cfe89",
   "metadata": {},
   "outputs": [
    {
     "name": "stdout",
     "output_type": "stream",
     "text": [
      "D\n",
      "B*exp(2*a) + C\n",
      "D*a\n",
      "-B*a*exp(2*a) + C*a\n"
     ]
    }
   ],
   "source": [
    "v1 = limit(v, y, -1, '-')\n",
    "# v2 = limit(v, y, -1, '+')\n",
    "v2 = B*exp(2*a)+C\n",
    "dv1= limit(dv, y, -1, '-')\n",
    "# dv2= limit(dv, y, -1, '+')\n",
    "dv2 = -B * a * exp(2*a) + C * a\n",
    "print(v1)\n",
    "print(v2)\n",
    "print(dv1)\n",
    "print(dv2)"
   ]
  },
  {
   "cell_type": "markdown",
   "id": "9c91c2e4",
   "metadata": {},
   "source": [
    "And the equations are:"
   ]
  },
  {
   "cell_type": "code",
   "execution_count": 14,
   "id": "bb3b4628",
   "metadata": {},
   "outputs": [],
   "source": [
    "eq1 = Eq(((a * U1 - o) * dv1 - a * dU1 * v1) - ((a * U2 - o) * dv2 - a * dU2 * v2), 0)\n",
    "eq2 = Eq((v1 / (a*U1-o)) - (v2 / (a*U2-o)),0)"
   ]
  },
  {
   "cell_type": "markdown",
   "id": "c327fc7b",
   "metadata": {},
   "source": [
    "### $y=1$"
   ]
  },
  {
   "cell_type": "code",
   "execution_count": 15,
   "id": "bae58475",
   "metadata": {},
   "outputs": [
    {
     "name": "stdout",
     "output_type": "stream",
     "text": [
      "1\n",
      "1\n",
      "1\n",
      "0\n"
     ]
    }
   ],
   "source": [
    "U1 = limit(U, y, 1, '-')\n",
    "U2 = limit(U, y, 1, '+')\n",
    "# dU1 = limit(dU, y, -1, '-')\n",
    "# dU2 = limit(dU, y, -1, '+')\n",
    "dU1 = 1\n",
    "dU2 = 0\n",
    "print(U1)\n",
    "print(U2)\n",
    "print(dU1)\n",
    "print(dU2)"
   ]
  },
  {
   "cell_type": "code",
   "execution_count": 16,
   "id": "bdc19ba6",
   "metadata": {},
   "outputs": [
    {
     "name": "stdout",
     "output_type": "stream",
     "text": [
      "B + C*exp(2*a)\n",
      "A\n",
      "-B*a + C*a*exp(2*a)\n",
      "-A*a\n"
     ]
    }
   ],
   "source": [
    "# v1 = limit(v, y, 1, '-')\n",
    "v1 = B + C * exp(2*a)\n",
    "v2 = limit(v, y, 1, '+')\n",
    "# dv1= limit(dv, y, 1, '-')\n",
    "dv1 = -B*a + C * a * exp(2*a)\n",
    "dv2= limit(dv, y, 1, '+')\n",
    "print(v1)\n",
    "print(v2)\n",
    "print(dv1)\n",
    "print(dv2)"
   ]
  },
  {
   "cell_type": "code",
   "execution_count": 17,
   "id": "c76b6dd8",
   "metadata": {},
   "outputs": [],
   "source": [
    "eq3 = Eq(((a * U1 - o) * dv1 - a * dU1 * v1) - ((a * U2 - o) * dv2 - a * dU2 * v2),0)\n",
    "eq4 = Eq((v1 / (a*U1-o)) - (v2 / (a*U2-o)),0)"
   ]
  },
  {
   "cell_type": "code",
   "execution_count": 18,
   "id": "e8014fc5",
   "metadata": {},
   "outputs": [
    {
     "name": "stdout",
     "output_type": "stream",
     "text": [
      "Eq(D*a*(-a - o) + a*(B*exp(2*a) + C) - (-a - o)*(-B*a*exp(2*a) + C*a), 0)\n",
      "Eq(D/(-a - o) - (B*exp(2*a) + C)/(-a - o), 0)\n",
      "Eq(A*a*(a - o) - a*(B + C*exp(2*a)) + (a - o)*(-B*a + C*a*exp(2*a)), 0)\n",
      "Eq(-A/(a - o) + (B + C*exp(2*a))/(a - o), 0)\n"
     ]
    }
   ],
   "source": [
    "print(eq1)\n",
    "print(eq2)\n",
    "print(eq3)\n",
    "print(eq4)"
   ]
  },
  {
   "cell_type": "code",
   "execution_count": 19,
   "id": "c14b8406",
   "metadata": {},
   "outputs": [],
   "source": [
    "M, b = linear_eq_to_matrix((eq1, eq2, eq3, eq4), A, B, C, D)"
   ]
  },
  {
   "cell_type": "code",
   "execution_count": 20,
   "id": "14a2632b",
   "metadata": {},
   "outputs": [
    {
     "data": {
      "text/latex": [
       "$\\displaystyle \\left[\\begin{matrix}0 & a \\left(- a - o\\right) e^{2 a} + a e^{2 a} & - a \\left(- a - o\\right) + a & a \\left(- a - o\\right)\\\\0 & - \\frac{e^{2 a}}{- a - o} & - \\frac{1}{- a - o} & \\frac{1}{- a - o}\\\\a \\left(a - o\\right) & - a \\left(a - o\\right) - a & a \\left(a - o\\right) e^{2 a} - a e^{2 a} & 0\\\\- \\frac{1}{a - o} & \\frac{1}{a - o} & \\frac{e^{2 a}}{a - o} & 0\\end{matrix}\\right]$"
      ],
      "text/plain": [
       "Matrix([\n",
       "[         0, a*(-a - o)*exp(2*a) + a*exp(2*a),                 -a*(-a - o) + a, a*(-a - o)],\n",
       "[         0,               -exp(2*a)/(-a - o),                     -1/(-a - o), 1/(-a - o)],\n",
       "[ a*(a - o),                   -a*(a - o) - a, a*(a - o)*exp(2*a) - a*exp(2*a),          0],\n",
       "[-1/(a - o),                        1/(a - o),                exp(2*a)/(a - o),          0]])"
      ]
     },
     "execution_count": 20,
     "metadata": {},
     "output_type": "execute_result"
    }
   ],
   "source": [
    "M"
   ]
  },
  {
   "cell_type": "code",
   "execution_count": 21,
   "id": "8212598c",
   "metadata": {},
   "outputs": [],
   "source": [
    "det = simplify(M.det())"
   ]
  },
  {
   "cell_type": "code",
   "execution_count": 50,
   "id": "3aaeb3e5",
   "metadata": {},
   "outputs": [],
   "source": [
    "det = det * (a**2-o**2)"
   ]
  },
  {
   "cell_type": "code",
   "execution_count": 64,
   "id": "cefe9e83",
   "metadata": {},
   "outputs": [
    {
     "data": {
      "text/latex": [
       "$\\displaystyle a^{2} \\left(- 4 a^{2} e^{4 a} + 4 a e^{4 a} + 4 o^{2} e^{4 a} - e^{4 a} + 1\\right) = 0$"
      ],
      "text/plain": [
       "Eq(a**2*(-4*a**2*exp(4*a) + 4*a*exp(4*a) + 4*o**2*exp(4*a) - exp(4*a) + 1), 0)"
      ]
     },
     "execution_count": 64,
     "metadata": {},
     "output_type": "execute_result"
    }
   ],
   "source": [
    "eq = Eq(det, 0)\n",
    "eq"
   ]
  },
  {
   "cell_type": "code",
   "execution_count": 65,
   "id": "571d9395",
   "metadata": {},
   "outputs": [
    {
     "data": {
      "text/latex": [
       "$\\displaystyle 0.0596729879056508 o^{2} + 0.000452321935095871 = 0$"
      ],
      "text/plain": [
       "Eq(0.0596729879056508*o**2 + 0.000452321935095871, 0)"
      ]
     },
     "execution_count": 65,
     "metadata": {},
     "output_type": "execute_result"
    }
   ],
   "source": [
    "eq.subs({a:0.1})"
   ]
  },
  {
   "cell_type": "code",
   "execution_count": 106,
   "id": "cd3c7e21",
   "metadata": {},
   "outputs": [
    {
     "data": {
      "text/latex": [
       "$\\displaystyle - 0.0870632615338401 i$"
      ],
      "text/plain": [
       "-0.0870632615338401*I"
      ]
     },
     "execution_count": 106,
     "metadata": {},
     "output_type": "execute_result"
    }
   ],
   "source": [
    "r = solve(det.subs({a:0.1}))\n",
    "r[0]"
   ]
  },
  {
   "cell_type": "code",
   "execution_count": 116,
   "id": "2cc6c534",
   "metadata": {},
   "outputs": [],
   "source": [
    "aa = np.linspace(0.01, 1, 100)\n",
    "o_i = np.zeros_like(aa)\n",
    "o_r = np.zeros_like(aa)"
   ]
  },
  {
   "cell_type": "code",
   "execution_count": 120,
   "id": "89d68ee0",
   "metadata": {},
   "outputs": [],
   "source": [
    "for i, aaa in enumerate(aa):\n",
    "    r = solve(det.subs({a:aaa}))\n",
    "    o_i[i] = im(r[1])\n",
    "    o_r[i] = re(r[1])\n",
    "#     print(i, aaa, r, end='\\n')"
   ]
  },
  {
   "cell_type": "code",
   "execution_count": 122,
   "id": "35cd178f",
   "metadata": {},
   "outputs": [
    {
     "data": {
      "image/png": "[encoded data removed]",
      "text/plain": [
       "<Figure size 640x480 with 1 Axes>"
      ]
     },
     "metadata": {},
     "output_type": "display_data"
    }
   ],
   "source": [
    "plt.plot(aa, o_i)\n",
    "plt.grid()"
   ]
  },
  {
   "cell_type": "code",
   "execution_count": 121,
   "id": "d040a482",
   "metadata": {},
   "outputs": [
    {
     "data": {
      "image/png": "[encoded data removed]",
      "text/plain": [
       "<Figure size 640x480 with 1 Axes>"
      ]
     },
     "metadata": {},
     "output_type": "display_data"
    }
   ],
   "source": [
    "plt.plot(aa, o_r)\n",
    "plt.grid()"
   ]
  },
  {
   "cell_type": "code",
   "execution_count": null,
   "id": "710cf8cc",
   "metadata": {},
   "outputs": [],
   "source": []
  }
 ],
 "metadata": {
  "kernelspec": {
   "display_name": "Python 3 (ipykernel)",
   "language": "python",
   "name": "python3"
  },
  "language_info": {
   "codemirror_mode": {
    "name": "ipython",
    "version": 3
   },
   "file_extension": ".py",
   "mimetype": "text/x-python",
   "name": "python",
   "nbconvert_exporter": "python",
   "pygments_lexer": "ipython3",
   "version": "3.10.6"
  }
 },
 "nbformat": 4,
 "nbformat_minor": 5
}
